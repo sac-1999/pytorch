{
  "nbformat": 4,
  "nbformat_minor": 0,
  "metadata": {
    "colab": {
      "provenance": [],
      "gpuType": "T4",
      "authorship_tag": "ABX9TyO5gsl5OIQfCRH3ecMfvVEB",
      "include_colab_link": true
    },
    "kernelspec": {
      "name": "python3",
      "display_name": "Python 3"
    },
    "language_info": {
      "name": "python"
    },
    "accelerator": "GPU"
  },
  "cells": [
    {
      "cell_type": "markdown",
      "metadata": {
        "id": "view-in-github",
        "colab_type": "text"
      },
      "source": [
        "<a href=\"https://colab.research.google.com/github/sac-1999/pytorch/blob/main/Tensors.ipynb\" target=\"_parent\"><img src=\"https://colab.research.google.com/assets/colab-badge.svg\" alt=\"Open In Colab\"/></a>"
      ]
    },
    {
      "cell_type": "code",
      "execution_count": 1,
      "metadata": {
        "colab": {
          "base_uri": "https://localhost:8080/"
        },
        "id": "pKsxR-yVniA-",
        "outputId": "54cdf0c0-ed75-4c47-d432-14fe7bb4aa36"
      },
      "outputs": [
        {
          "output_type": "stream",
          "name": "stdout",
          "text": [
            "2.6.0+cu124\n"
          ]
        }
      ],
      "source": [
        "import torch\n",
        "print(torch.__version__)"
      ]
    },
    {
      "cell_type": "code",
      "source": [
        "if (torch.cuda.is_available()):\n",
        "    print(\"cuda is enabled\")\n",
        "else:\n",
        "    print(\"enable gpu, till we will use cpu\")"
      ],
      "metadata": {
        "colab": {
          "base_uri": "https://localhost:8080/"
        },
        "id": "qmz0BCAXnq8A",
        "outputId": "fdc57b10-2c74-4e9a-e014-b66691fd94ba"
      },
      "execution_count": 2,
      "outputs": [
        {
          "output_type": "stream",
          "name": "stdout",
          "text": [
            "cuda is enabled\n"
          ]
        }
      ]
    },
    {
      "cell_type": "code",
      "source": [
        "#empty\n",
        "torch.manual_seed(42)\n",
        "a = torch.empty(2,3)\n",
        "print(torch.zeros(2,3))\n",
        "print(torch.ones(2,3))\n",
        "print(torch.rand(2,3))\n",
        "print(torch.tensor([[1,2,3], [3,4,5]]))"
      ],
      "metadata": {
        "colab": {
          "base_uri": "https://localhost:8080/"
        },
        "id": "zijmWCaEshYw",
        "outputId": "01a34320-7f5a-4a7c-d626-5b3477d6c0e9"
      },
      "execution_count": 3,
      "outputs": [
        {
          "output_type": "stream",
          "name": "stdout",
          "text": [
            "tensor([[0., 0., 0.],\n",
            "        [0., 0., 0.]])\n",
            "tensor([[1., 1., 1.],\n",
            "        [1., 1., 1.]])\n",
            "tensor([[0.8823, 0.9150, 0.3829],\n",
            "        [0.9593, 0.3904, 0.6009]])\n",
            "tensor([[1, 2, 3],\n",
            "        [3, 4, 5]])\n"
          ]
        }
      ]
    },
    {
      "cell_type": "code",
      "source": [
        "print(torch.arange(0,10,2))\n",
        "print(torch.linspace(0,10, 8))\n",
        "print(torch.eye(3))\n",
        "print(torch.full((3,3), 5))\n",
        "print(torch.full((3,3), 5).shape)"
      ],
      "metadata": {
        "colab": {
          "base_uri": "https://localhost:8080/"
        },
        "id": "qj5M0m5osu0t",
        "outputId": "9b8143ec-423f-44eb-fc04-1057f3456a13"
      },
      "execution_count": 4,
      "outputs": [
        {
          "output_type": "stream",
          "name": "stdout",
          "text": [
            "tensor([0, 2, 4, 6, 8])\n",
            "tensor([ 0.0000,  1.4286,  2.8571,  4.2857,  5.7143,  7.1429,  8.5714, 10.0000])\n",
            "tensor([[1., 0., 0.],\n",
            "        [0., 1., 0.],\n",
            "        [0., 0., 1.]])\n",
            "tensor([[5, 5, 5],\n",
            "        [5, 5, 5],\n",
            "        [5, 5, 5]])\n",
            "torch.Size([3, 3])\n"
          ]
        }
      ]
    },
    {
      "cell_type": "code",
      "source": [
        "a = torch.tensor([[1,2,3],[4,5,6]])\n",
        "print(torch.empty_like(a))\n",
        "print(torch.ones_like(a))\n",
        "print(torch.zeros_like(a))\n",
        "print(torch.rand_like(a, dtype = torch.float16))"
      ],
      "metadata": {
        "colab": {
          "base_uri": "https://localhost:8080/"
        },
        "id": "Y378Y85z4etm",
        "outputId": "043d9f94-da66-476f-8ecb-862ee9ebc3d1"
      },
      "execution_count": 5,
      "outputs": [
        {
          "output_type": "stream",
          "name": "stdout",
          "text": [
            "tensor([[7310315409582465637, 2318265727211105906, 7957695011165139746],\n",
            "        [3544393809949375010, 3976740237704573026, 7221857577833017655]])\n",
            "tensor([[1, 1, 1],\n",
            "        [1, 1, 1]])\n",
            "tensor([[0, 0, 0],\n",
            "        [0, 0, 0]])\n",
            "tensor([[0.8418, 0.5098, 0.7998],\n",
            "        [0.0591, 0.2275, 0.6045]], dtype=torch.float16)\n"
          ]
        }
      ]
    },
    {
      "cell_type": "code",
      "source": [
        "print(a.dtype)\n",
        "print(torch.tensor([1.0, 2.0, 3.0], dtype = torch.float64))\n",
        "print(a.to(torch.float32))"
      ],
      "metadata": {
        "colab": {
          "base_uri": "https://localhost:8080/"
        },
        "id": "KOkcm9_y6Lru",
        "outputId": "103cc6d0-4efc-486f-ad91-07253f254138"
      },
      "execution_count": 6,
      "outputs": [
        {
          "output_type": "stream",
          "name": "stdout",
          "text": [
            "torch.int64\n",
            "tensor([1., 2., 3.], dtype=torch.float64)\n",
            "tensor([[1., 2., 3.],\n",
            "        [4., 5., 6.]])\n"
          ]
        }
      ]
    },
    {
      "cell_type": "code",
      "source": [
        "print(a + 2)\n",
        "print(a - 2)\n",
        "print(a * 2)\n",
        "print(a/2)\n",
        "print(a**2)\n",
        "print(a%2)\n",
        "print(a//2)"
      ],
      "metadata": {
        "colab": {
          "base_uri": "https://localhost:8080/"
        },
        "id": "TFFyZFF26YVM",
        "outputId": "5f9b4621-6cb8-46d1-f5ec-5c7a69fd0538"
      },
      "execution_count": 7,
      "outputs": [
        {
          "output_type": "stream",
          "name": "stdout",
          "text": [
            "tensor([[3, 4, 5],\n",
            "        [6, 7, 8]])\n",
            "tensor([[-1,  0,  1],\n",
            "        [ 2,  3,  4]])\n",
            "tensor([[ 2,  4,  6],\n",
            "        [ 8, 10, 12]])\n",
            "tensor([[0.5000, 1.0000, 1.5000],\n",
            "        [2.0000, 2.5000, 3.0000]])\n",
            "tensor([[ 1,  4,  9],\n",
            "        [16, 25, 36]])\n",
            "tensor([[1, 0, 1],\n",
            "        [0, 1, 0]])\n",
            "tensor([[0, 1, 1],\n",
            "        [2, 2, 3]])\n"
          ]
        }
      ]
    },
    {
      "cell_type": "code",
      "source": [
        "b = a + 2"
      ],
      "metadata": {
        "id": "k-RNEL4B6_2A"
      },
      "execution_count": 8,
      "outputs": []
    },
    {
      "cell_type": "code",
      "source": [
        "print(b)"
      ],
      "metadata": {
        "colab": {
          "base_uri": "https://localhost:8080/"
        },
        "id": "EKsjBzy87liq",
        "outputId": "aacd5f3a-b450-4251-e0ff-93d8874467ff"
      },
      "execution_count": 9,
      "outputs": [
        {
          "output_type": "stream",
          "name": "stdout",
          "text": [
            "tensor([[3, 4, 5],\n",
            "        [6, 7, 8]])\n"
          ]
        }
      ]
    },
    {
      "cell_type": "code",
      "source": [
        "print(a+b)\n",
        "print(a-b)\n",
        "print(a*b)\n",
        "print(a/b)\n",
        "print(a%b)"
      ],
      "metadata": {
        "colab": {
          "base_uri": "https://localhost:8080/"
        },
        "id": "dBFQWKrg7oaW",
        "outputId": "9f7b9f18-9e98-4d04-856a-24520c46c8fc"
      },
      "execution_count": 10,
      "outputs": [
        {
          "output_type": "stream",
          "name": "stdout",
          "text": [
            "tensor([[ 4,  6,  8],\n",
            "        [10, 12, 14]])\n",
            "tensor([[-2, -2, -2],\n",
            "        [-2, -2, -2]])\n",
            "tensor([[ 3,  8, 15],\n",
            "        [24, 35, 48]])\n",
            "tensor([[0.3333, 0.5000, 0.6000],\n",
            "        [0.6667, 0.7143, 0.7500]])\n",
            "tensor([[1, 2, 3],\n",
            "        [4, 5, 6]])\n"
          ]
        }
      ]
    },
    {
      "cell_type": "code",
      "source": [
        "a = torch.tensor([1.2, 2.3, 3.7])\n",
        "print(torch.round(a))\n",
        "print(torch.ceil(a))\n",
        "print(torch.floor(a))\n",
        "print(torch.clamp(a, min = 2, max = 2))\n"
      ],
      "metadata": {
        "colab": {
          "base_uri": "https://localhost:8080/"
        },
        "id": "D3lIPIda7wlO",
        "outputId": "053a2c89-85f7-4a9d-9b9b-795db3f6d56c"
      },
      "execution_count": 11,
      "outputs": [
        {
          "output_type": "stream",
          "name": "stdout",
          "text": [
            "tensor([1., 2., 4.])\n",
            "tensor([2., 3., 4.])\n",
            "tensor([1., 2., 3.])\n",
            "tensor([2., 2., 2.])\n"
          ]
        }
      ]
    },
    {
      "cell_type": "code",
      "source": [
        "a = torch.tensor([[1, 2, 3], [4,5,6]], dtype = torch.float)\n",
        "print(torch.sum(a, dim = 0))\n",
        "print(torch.mean(a))\n",
        "print(torch.mean(a, dim = 0))\n",
        "print(torch.median(a))\n",
        "print(torch.min(a))\n",
        "print(torch.max(a))\n",
        "print(torch.prod(a))\n",
        "print(torch.std(a))\n",
        "print(torch.var(a))"
      ],
      "metadata": {
        "colab": {
          "base_uri": "https://localhost:8080/"
        },
        "id": "LjzwvTxT8Dxs",
        "outputId": "06c82ec3-83da-47e1-c4b9-0d7fcc60d240"
      },
      "execution_count": 12,
      "outputs": [
        {
          "output_type": "stream",
          "name": "stdout",
          "text": [
            "tensor([5., 7., 9.])\n",
            "tensor(3.5000)\n",
            "tensor([2.5000, 3.5000, 4.5000])\n",
            "tensor(3.)\n",
            "tensor(1.)\n",
            "tensor(6.)\n",
            "tensor(720.)\n",
            "tensor(1.8708)\n",
            "tensor(3.5000)\n"
          ]
        }
      ]
    },
    {
      "cell_type": "code",
      "source": [
        "print(torch.argmax(a))\n",
        "print(torch.argmin(a))"
      ],
      "metadata": {
        "colab": {
          "base_uri": "https://localhost:8080/"
        },
        "id": "rCAYUaAu8k8I",
        "outputId": "380a6bc5-f028-4cd9-e61f-190528a1900c"
      },
      "execution_count": 13,
      "outputs": [
        {
          "output_type": "stream",
          "name": "stdout",
          "text": [
            "tensor(5)\n",
            "tensor(0)\n"
          ]
        }
      ]
    },
    {
      "cell_type": "code",
      "source": [
        "print(torch.matmul(a,a.T))\n",
        "c = torch.Tensor([1,2,3])\n",
        "print(torch.dot(c,c))\n",
        "print(torch.transpose(a,0, 1))"
      ],
      "metadata": {
        "colab": {
          "base_uri": "https://localhost:8080/"
        },
        "id": "Sy7C6-wp80VT",
        "outputId": "812bb5c8-ce6b-4ff4-878f-954fb8707329"
      },
      "execution_count": 14,
      "outputs": [
        {
          "output_type": "stream",
          "name": "stdout",
          "text": [
            "tensor([[14., 32.],\n",
            "        [32., 77.]])\n",
            "tensor(14.)\n",
            "tensor([[1., 4.],\n",
            "        [2., 5.],\n",
            "        [3., 6.]])\n"
          ]
        }
      ]
    },
    {
      "cell_type": "code",
      "source": [
        "a = torch.rand((3,3))\n",
        "print(torch.det(a))"
      ],
      "metadata": {
        "colab": {
          "base_uri": "https://localhost:8080/"
        },
        "id": "Jg0N-Kqci5L8",
        "outputId": "710057fb-26ee-443e-dde7-5e3170a9c464"
      },
      "execution_count": 15,
      "outputs": [
        {
          "output_type": "stream",
          "name": "stdout",
          "text": [
            "tensor(-0.0596)\n"
          ]
        }
      ]
    },
    {
      "cell_type": "code",
      "source": [
        "a = torch.randint(size=(2,3), high = 5, low = 1,)\n",
        "b = torch.randint(size=(2,3), high = 5, low = 1,)\n",
        "print(a)\n",
        "print(b)\n",
        "print(a >= b)\n",
        "print(a <= b)\n",
        "print(a == b)\n",
        "print(torch.log(a))\n",
        "print(torch.exp(a))\n",
        "print(torch.sqrt(a))"
      ],
      "metadata": {
        "colab": {
          "base_uri": "https://localhost:8080/"
        },
        "id": "cjz8iz30j_NE",
        "outputId": "21cbd07a-4f7c-4455-f1a8-181b4b6733ca"
      },
      "execution_count": 16,
      "outputs": [
        {
          "output_type": "stream",
          "name": "stdout",
          "text": [
            "tensor([[1, 2, 4],\n",
            "        [4, 2, 2]])\n",
            "tensor([[2, 4, 4],\n",
            "        [1, 1, 4]])\n",
            "tensor([[False, False,  True],\n",
            "        [ True,  True, False]])\n",
            "tensor([[ True,  True,  True],\n",
            "        [False, False,  True]])\n",
            "tensor([[False, False,  True],\n",
            "        [False, False, False]])\n",
            "tensor([[0.0000, 0.6931, 1.3863],\n",
            "        [1.3863, 0.6931, 0.6931]])\n",
            "tensor([[ 2.7183,  7.3891, 54.5981],\n",
            "        [54.5981,  7.3891,  7.3891]])\n",
            "tensor([[1.0000, 1.4142, 2.0000],\n",
            "        [2.0000, 1.4142, 1.4142]])\n"
          ]
        }
      ]
    },
    {
      "cell_type": "code",
      "source": [
        "##inplace operations to avoid memory usage\n",
        "a.add_(b)\n",
        "a.relu_()"
      ],
      "metadata": {
        "colab": {
          "base_uri": "https://localhost:8080/"
        },
        "id": "BcRXKr8tkPdX",
        "outputId": "7daca132-6d4b-41a4-eed9-c1a9b606067b"
      },
      "execution_count": 17,
      "outputs": [
        {
          "output_type": "execute_result",
          "data": {
            "text/plain": [
              "tensor([[3, 6, 8],\n",
              "        [5, 3, 6]])"
            ]
          },
          "metadata": {},
          "execution_count": 17
        }
      ]
    },
    {
      "cell_type": "code",
      "source": [
        "##tensor copy\n",
        "c = a\n",
        "print(id(a))\n",
        "print(id(c))\n",
        "c = a.clone()\n",
        "print(id(c))"
      ],
      "metadata": {
        "colab": {
          "base_uri": "https://localhost:8080/"
        },
        "id": "NxgWwRbOlLMC",
        "outputId": "311d27ed-e2c6-4f3d-d9c6-e0c750275d42"
      },
      "execution_count": 18,
      "outputs": [
        {
          "output_type": "stream",
          "name": "stdout",
          "text": [
            "134839056039856\n",
            "134839056039856\n",
            "134839056037264\n"
          ]
        }
      ]
    },
    {
      "cell_type": "code",
      "source": [
        "#operations in in gpu\n",
        "device = torch.device('cuda')\n",
        "a = torch.rand(2,3, device = device)\n",
        "b = torch.ones_like(a, device = 'cpu')\n",
        "print(b.device)\n",
        "b = b.to(device)\n",
        "print(b.device)"
      ],
      "metadata": {
        "colab": {
          "base_uri": "https://localhost:8080/"
        },
        "id": "9Opn35r-lk2N",
        "outputId": "f481cda6-7f30-4e33-b663-4b728f82fa15"
      },
      "execution_count": 32,
      "outputs": [
        {
          "output_type": "stream",
          "name": "stdout",
          "text": [
            "cpu\n",
            "cuda:0\n"
          ]
        }
      ]
    },
    {
      "cell_type": "code",
      "source": [
        "# comparison of cpu vs gpu\n",
        "#cpu time\n",
        "from time import time\n",
        "starttime = time()\n",
        "a = torch.rand(10000, 10000)\n",
        "b = a.clone()\n",
        "c = torch.matmul(a,b)\n",
        "print(\"CPU time taken  : \" , time() - starttime)\n",
        "\n",
        "##gpu time\n",
        "starttime = time()\n",
        "a = a.to(device)\n",
        "b = b.to(device)\n",
        "c = torch.matmul(a,b)\n",
        "print(\"GPU time taken : \", time() - starttime)\n"
      ],
      "metadata": {
        "colab": {
          "base_uri": "https://localhost:8080/"
        },
        "id": "o_t2dG3_l2oi",
        "outputId": "59bbebd9-de5e-46e8-e9fb-2e05d95b3b35"
      },
      "execution_count": 40,
      "outputs": [
        {
          "output_type": "stream",
          "name": "stdout",
          "text": [
            "CPU time taken  :  30.388569355010986\n",
            "GPU time taken :  0.3167908191680908\n"
          ]
        }
      ]
    },
    {
      "cell_type": "code",
      "source": [
        "#Reshaping\n",
        "torch.manual_seed(42)\n",
        "a = torch.randint(size = (2,3,2), low = 1, high = 10)\n",
        "print(a)\n",
        "# print(a.reshape(12,1))\n",
        "print(a.reshape(1,12))\n",
        "print(a.flatten())\n",
        "print(a.permute(2,0,1))\n"
      ],
      "metadata": {
        "colab": {
          "base_uri": "https://localhost:8080/"
        },
        "id": "YgsPxxEKmq3v",
        "outputId": "de95149a-92c0-487d-8c74-d477eb6edafe"
      },
      "execution_count": 58,
      "outputs": [
        {
          "output_type": "stream",
          "name": "stdout",
          "text": [
            "tensor([[[7, 6],\n",
            "         [8, 5],\n",
            "         [1, 3]],\n",
            "\n",
            "        [[8, 6],\n",
            "         [5, 3],\n",
            "         [5, 5]]])\n",
            "tensor([[7, 6, 8, 5, 1, 3, 8, 6, 5, 3, 5, 5]])\n",
            "tensor([7, 6, 8, 5, 1, 3, 8, 6, 5, 3, 5, 5])\n",
            "tensor([[[7, 8, 1],\n",
            "         [8, 5, 5]],\n",
            "\n",
            "        [[6, 5, 3],\n",
            "         [6, 3, 5]]])\n"
          ]
        }
      ]
    },
    {
      "cell_type": "code",
      "source": [
        "a = torch.rand((226,226,3))\n",
        "print(a.unsqueeze(0).shape)\n",
        "print(a.shape)\n",
        "c = a.unsqueeze(0)\n",
        "print(c.shape)\n",
        "print(c.squeeze(0).shape)"
      ],
      "metadata": {
        "colab": {
          "base_uri": "https://localhost:8080/"
        },
        "id": "CJ12qiE2n3CD",
        "outputId": "f0b3a7d8-c8e1-494c-bdf7-663dbe55d27e"
      },
      "execution_count": 68,
      "outputs": [
        {
          "output_type": "stream",
          "name": "stdout",
          "text": [
            "torch.Size([1, 226, 226, 3])\n",
            "torch.Size([226, 226, 3])\n",
            "torch.Size([1, 226, 226, 3])\n",
            "torch.Size([226, 226, 3])\n"
          ]
        }
      ]
    },
    {
      "cell_type": "code",
      "source": [
        "print(a.numpy())\n",
        "c = a.numpy()\n",
        "print(torch.from_numpy(c))"
      ],
      "metadata": {
        "colab": {
          "base_uri": "https://localhost:8080/"
        },
        "id": "hsAJvmQ2qgW0",
        "outputId": "083e3b48-11e0-4b00-8543-5e93a490e195"
      },
      "execution_count": 70,
      "outputs": [
        {
          "output_type": "stream",
          "name": "stdout",
          "text": [
            "[[[0.5813674  0.18492013 0.19000751]\n",
            "  [0.08957374 0.8888592  0.37091398]\n",
            "  [0.28808767 0.06543833 0.51536196]\n",
            "  ...\n",
            "  [0.1401093  0.02303553 0.03098691]\n",
            "  [0.28819126 0.56067234 0.99855006]\n",
            "  [0.4074973  0.61677235 0.6790549 ]]\n",
            "\n",
            " [[0.7785705  0.05709147 0.70908386]\n",
            "  [0.98007345 0.47566986 0.07013547]\n",
            "  [0.78870463 0.27941352 0.19361776]\n",
            "  ...\n",
            "  [0.5695672  0.80530334 0.34934866]\n",
            "  [0.9673664  0.14841902 0.39370203]\n",
            "  [0.96236074 0.7529738  0.39960098]]\n",
            "\n",
            " [[0.7710647  0.6123576  0.6120187 ]\n",
            "  [0.8016861  0.18903524 0.3513652 ]\n",
            "  [0.05541122 0.7249629  0.17707205]\n",
            "  ...\n",
            "  [0.4523055  0.60575235 0.9640171 ]\n",
            "  [0.6259485  0.28800404 0.4053204 ]\n",
            "  [0.5568275  0.6217334  0.06927431]]\n",
            "\n",
            " ...\n",
            "\n",
            " [[0.13565451 0.9718838  0.32212567]\n",
            "  [0.23617738 0.31000334 0.28285962]\n",
            "  [0.93764377 0.93245727 0.79167956]\n",
            "  ...\n",
            "  [0.94019634 0.34312683 0.24597281]\n",
            "  [0.05999476 0.6251118  0.12567759]\n",
            "  [0.53130686 0.16922295 0.8730655 ]]\n",
            "\n",
            " [[0.41502273 0.71431464 0.80941087]\n",
            "  [0.84616846 0.770316   0.5347578 ]\n",
            "  [0.6031773  0.67325175 0.7044893 ]\n",
            "  ...\n",
            "  [0.27119434 0.4764688  0.9180074 ]\n",
            "  [0.52174455 0.257402   0.3891635 ]\n",
            "  [0.9774399  0.91482514 0.8237714 ]]\n",
            "\n",
            " [[0.7151582  0.98010373 0.01095635]\n",
            "  [0.92546916 0.7626579  0.64786273]\n",
            "  [0.14963603 0.9680128  0.55246514]\n",
            "  ...\n",
            "  [0.0207901  0.9371795  0.39758295]\n",
            "  [0.9511286  0.9409217  0.9458246 ]\n",
            "  [0.6235464  0.59633857 0.57597053]]]\n",
            "tensor([[[0.5814, 0.1849, 0.1900],\n",
            "         [0.0896, 0.8889, 0.3709],\n",
            "         [0.2881, 0.0654, 0.5154],\n",
            "         ...,\n",
            "         [0.1401, 0.0230, 0.0310],\n",
            "         [0.2882, 0.5607, 0.9986],\n",
            "         [0.4075, 0.6168, 0.6791]],\n",
            "\n",
            "        [[0.7786, 0.0571, 0.7091],\n",
            "         [0.9801, 0.4757, 0.0701],\n",
            "         [0.7887, 0.2794, 0.1936],\n",
            "         ...,\n",
            "         [0.5696, 0.8053, 0.3493],\n",
            "         [0.9674, 0.1484, 0.3937],\n",
            "         [0.9624, 0.7530, 0.3996]],\n",
            "\n",
            "        [[0.7711, 0.6124, 0.6120],\n",
            "         [0.8017, 0.1890, 0.3514],\n",
            "         [0.0554, 0.7250, 0.1771],\n",
            "         ...,\n",
            "         [0.4523, 0.6058, 0.9640],\n",
            "         [0.6259, 0.2880, 0.4053],\n",
            "         [0.5568, 0.6217, 0.0693]],\n",
            "\n",
            "        ...,\n",
            "\n",
            "        [[0.1357, 0.9719, 0.3221],\n",
            "         [0.2362, 0.3100, 0.2829],\n",
            "         [0.9376, 0.9325, 0.7917],\n",
            "         ...,\n",
            "         [0.9402, 0.3431, 0.2460],\n",
            "         [0.0600, 0.6251, 0.1257],\n",
            "         [0.5313, 0.1692, 0.8731]],\n",
            "\n",
            "        [[0.4150, 0.7143, 0.8094],\n",
            "         [0.8462, 0.7703, 0.5348],\n",
            "         [0.6032, 0.6733, 0.7045],\n",
            "         ...,\n",
            "         [0.2712, 0.4765, 0.9180],\n",
            "         [0.5217, 0.2574, 0.3892],\n",
            "         [0.9774, 0.9148, 0.8238]],\n",
            "\n",
            "        [[0.7152, 0.9801, 0.0110],\n",
            "         [0.9255, 0.7627, 0.6479],\n",
            "         [0.1496, 0.9680, 0.5525],\n",
            "         ...,\n",
            "         [0.0208, 0.9372, 0.3976],\n",
            "         [0.9511, 0.9409, 0.9458],\n",
            "         [0.6235, 0.5963, 0.5760]]])\n"
          ]
        }
      ]
    },
    {
      "cell_type": "code",
      "source": [],
      "metadata": {
        "id": "DXBzuN_Lrrbt"
      },
      "execution_count": null,
      "outputs": []
    }
  ]
}